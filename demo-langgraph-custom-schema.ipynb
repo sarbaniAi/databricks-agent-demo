{
 "cells": [
  {
   "cell_type": "markdown",
   "metadata": {
    "application/vnd.databricks.v1+cell": {
     "cellMetadata": {
      "byteLimit": 2048000,
      "rowLimit": 10000
     },
     "inputWidgets": {},
     "nuid": "03124337-f698-44bd-8137-a553e3aa7888",
     "showTitle": false,
     "tableResultSettingsMap": {},
     "title": ""
    }
   },
   "source": [
    "# How to build a LangGraph agent using Mosaic AI Agent Framework \n",
    "\n",
    "This notebook demonstrates how to author a LangGraph agent that's compatible with Mosaic AI Agent Framework features. In this notebook you learn to:\n",
    "- Author a tool-calling LangGraph agent wrapped with `ChatAgent` with custom inputs and outputs\n",
    "- Manually test the agent's output\n",
    "- Log and deploy the agent\n",
    "\n",
    "To learn more about authoring an agent using Mosaic AI Agent Framework, see Databricks documentation ([AWS](https://docs.databricks.com/aws/generative-ai/agent-framework/author-agent) | [Azure](https://learn.microsoft.com/azure/databricks/generative-ai/agent-framework/create-chat-model)).\n",
    "\n",
    "## Prerequisites\n",
    "\n",
    "- Address all `TODO`s in this notebook."
   ]
  },
  {
   "cell_type": "markdown",
   "metadata": {
    "application/vnd.databricks.v1+cell": {
     "cellMetadata": {
      "byteLimit": 2048000,
      "rowLimit": 10000
     },
     "inputWidgets": {},
     "nuid": "18dcc71b-da27-4bf7-b196-743f190fd933",
     "showTitle": false,
     "tableResultSettingsMap": {},
     "title": ""
    }
   },
   "source": [
    "\n",
    "### USE CASE: AI-driven Financial Analyst\n",
    "Our AI-driven Financial Analyst is designed to assist with various financial transactions and analyses. This intelligent agent can perform two primary functions:\n",
    "\n",
    "Financial Calculations: The agent can execute Python code to perform a wide range of financial calculations, from simple interest computations to complex investment analyses.\n",
    "\n",
    "Email Analysis for Fraud Detection: The agent can scan through customer emails to identify important communications related to financial transactions, particularly focusing on potential fraudulent activities or confirming legitimate transactions that were initially flagged as suspicious."
   ]
  },
  {
   "cell_type": "code",
   "execution_count": 0,
   "metadata": {
    "application/vnd.databricks.v1+cell": {
     "cellMetadata": {
      "byteLimit": 2048000,
      "rowLimit": 10000
     },
     "inputWidgets": {},
     "nuid": "db253b14-0030-46bf-b7ca-626678ec5ccd",
     "showTitle": false,
     "tableResultSettingsMap": {},
     "title": ""
    }
   },
   "outputs": [
    {
     "output_type": "stream",
     "name": "stdout",
     "output_type": "stream",
     "text": [
      "\u001B[31mERROR: pip's dependency resolver does not currently take into account all the packages that are installed. This behaviour is the source of the following dependency conflicts.\ndbt-databricks 1.9.7 requires databricks-sdk==0.17.0, but you have databricks-sdk 0.46.0 which is incompatible.\u001B[0m\u001B[31m\n\u001B[0m\u001B[43mNote: you may need to restart the kernel using %restart_python or dbutils.library.restartPython() to use updated packages.\u001B[0m\n"
     ]
    }
   ],
   "source": [
    "%pip install -U -qqqq mlflow langchain langgraph==0.2.74 unitycatalog-langchain[databricks] databricks-langchain pydantic databricks-agents uv\n",
    "dbutils.library.restartPython()"
   ]
  },
  {
   "cell_type": "markdown",
   "metadata": {
    "application/vnd.databricks.v1+cell": {
     "cellMetadata": {
      "byteLimit": 2048000,
      "rowLimit": 10000
     },
     "inputWidgets": {},
     "nuid": "4b96664d-0f7f-473e-a621-f6389c3b71aa",
     "showTitle": false,
     "tableResultSettingsMap": {},
     "title": ""
    }
   },
   "source": [
    "\n",
    "## Define the agent in code \n",
    "([MLFLOW - Model From Code GUIDE](https://mlflow.org/docs/latest/model/models-from-code.html))\n",
    "Define the agent code in a single cell below. This lets you easily write the agent code to a local Python file, using the `%%writefile` magic command, for subsequent logging and deployment.\n",
    "\n",
    "#### Agent tools\n",
    "This agent code adds the built-in Unity Catalog function `system.ai.python_exec` to the agent. The agent code also includes commented-out sample code for adding a vector search index to perform unstructured data retrieval.\n",
    "\n",
    "For more examples of tools to add to your agent, see Databricks documentation ([AWS](https://docs.databricks.com/aws/generative-ai/agent-framework/agent-tool) | [Azure](https://learn.microsoft.com/en-us/azure/databricks/generative-ai/agent-framework/agent-tool))\n",
    "\n",
    "#### Wrap the LangGraph agent using the `ChatAgent` interface\n",
    "\n",
    "For compatibility with Databricks AI features, the `LangGraphChatAgent` class implements the `ChatAgent` interface to wrap the LangGraph agent. This example uses the provided convenience APIs [`ChatAgentState`](https://mlflow.org/docs/latest/python_api/mlflow.langchain.html#mlflow.langchain.chat_agent_langgraph.ChatAgentState) and [`ChatAgentToolNode`](https://mlflow.org/docs/latest/python_api/mlflow.langchain.html#mlflow.langchain.chat_agent_langgraph.ChatAgentToolNode) for ease of use.\n",
    "\n",
    "Databricks recommends using `ChatAgent` as it simplifies authoring multi-turn conversational agents using an open source standard. See MLflow's [ChatAgent documentation](https://mlflow.org/docs/latest/python_api/mlflow.pyfunc.html#mlflow.pyfunc.ChatAgent).\n",
    "\n",
    "\n",
    "**Authoring your agent using ChatAgent provides the following benefits:**\n",
    "\n",
    "- **Advanced agent capabilities**\n",
    "> - **Streaming output**: Enable interactive user experiences by streaming output in smaller chunks.\n",
    "> - **Comprehensive tool-calling message history**: Return multiple messages, including intermediate tool-calling messages, for improved quality and conversation management.\n",
    "> - **Tool-calling confirmation suppor**t\n",
    "> - **Multi-agent system support**\n",
    "\n",
    "**Streamlined development, deployment, and monitoring**\n",
    "> - **Databricks feature integration**: Out-of-the-box compatibility with AI Playground, Agent Evaluation, and Agent Monitoring.\n",
    "> - **Typed authoring interfaces**: Write agent code using typed Python classes, benefiting from IDE and notebook autocomplete.\n",
    "> - **Automatic signature inference**: MLflow automatically infers ChatAgent signatures when logging the agent, simplifying registration and deployment. See Infer Model Signature during logging.\n",
    "> - **AI Gateway-enhanced inference tables**: AI Gateway inference tables are automatically enabled for deployed agents, providing access to detailed request log metadata.\n",
    "\n",
    "\n",
    "#### Custom inputs and outputs\n",
    "\n",
    "Some scenarios may require additional agent inputs, such as client_type and session_id, or outputs like retrieval source links that should not be included in the chat history for future interactions.\n",
    "\n",
    "For these scenarios, MLflow ChatAgent natively supports the fields custom_inputs and custom_outputs.\n",
    "The agent is designed to handle custom inputs and outputs using the `predict` methods and the `add_custom_outputs` function.\n",
    "\n",
    "- In the `predict` and `predict_stream` methods of the `LangGraphChatAgent` class:\n",
    "    - Custom inputs are passed as an optional parameter and included in the request dictionary.\n",
    "    - Custom outputs are captured from the agent's response and added to the `ChatAgentResponse` object.\n",
    "\n",
    "- In the `add_custom_outputs` function:\n",
    "    - This function is added as a node in the agent's workflow to append custom outputs to the state before returning the final response."
   ]
  },
  {
   "cell_type": "code",
   "execution_count": 0,
   "metadata": {
    "application/vnd.databricks.v1+cell": {
     "cellMetadata": {
      "byteLimit": 2048000,
      "rowLimit": 10000
     },
     "inputWidgets": {},
     "nuid": "8f83ce2c-dfcc-49d6-b73c-eed0b62f3805",
     "showTitle": false,
     "tableResultSettingsMap": {},
     "title": ""
    }
   },
   "outputs": [
    {
     "output_type": "stream",
     "name": "stdout",
     "output_type": "stream",
     "text": [
      "Overwriting agent.py\n"
     ]
    }
   ],
   "source": [
    "%%writefile agent.py\n",
    "from typing import Any, Generator, Optional, Sequence, Union\n",
    "\n",
    "import mlflow\n",
    "from databricks_langchain import ChatDatabricks, VectorSearchRetrieverTool\n",
    "from databricks_langchain.uc_ai import (\n",
    "    DatabricksFunctionClient,\n",
    "    UCFunctionToolkit,\n",
    "    set_uc_function_client,\n",
    ")\n",
    "from langchain_core.language_models import LanguageModelLike\n",
    "from langchain_core.runnables import RunnableConfig, RunnableLambda\n",
    "from langchain_core.tools import BaseTool\n",
    "from langgraph.graph import END, StateGraph\n",
    "from langgraph.graph.graph import CompiledGraph\n",
    "from langgraph.graph.state import CompiledStateGraph\n",
    "from langgraph.prebuilt.tool_executor import ToolExecutor\n",
    "from mlflow.langchain.chat_agent_langgraph import ChatAgentState, ChatAgentToolNode\n",
    "from mlflow.pyfunc import ChatAgent\n",
    "from mlflow.types.agent import (\n",
    "    ChatAgentChunk,\n",
    "    ChatAgentMessage,\n",
    "    ChatAgentResponse,\n",
    "    ChatContext,\n",
    ")\n",
    "\n",
    "mlflow.langchain.autolog()\n",
    "\n",
    "client = DatabricksFunctionClient()\n",
    "set_uc_function_client(client)\n",
    "\n",
    "############################################\n",
    "# Define your LLM endpoint and system prompt\n",
    "############################################\n",
    "# TODO: Replace with your model serving endpoint\n",
    "LLM_ENDPOINT_NAME =  \"agents-demo-gpt4o\"\n",
    "llm = ChatDatabricks(endpoint=LLM_ENDPOINT_NAME)\n",
    "\n",
    "\n",
    "# TODO: Update with your system prompt\n",
    "system_prompt = \"\"\"\n",
    "You are a helpful assistant. You can assist with Financial calculations and customer email analysis for financial transactions.\n",
    "Use tool \"system.ai.python_exec\" for running python code to perform any financial calculation.\n",
    "Use tool \"sarbanimaiti_catalog.dbdemos_fsi_fraud_detection.cust_emails\" to extract customer emails reporting any fraudulent transactions or emails confirming legitimate transactions that were initially flagged as suspicious. These emails will be used  for fraud analysis & investigation\n",
    "\"\"\"\n",
    "\n",
    "###############################################################################\n",
    "## Define tools for your agent, enabling it to retrieve data or take actions\n",
    "## beyond text generation\n",
    "## To create and see usage examples of more tools, see\n",
    "## https://docs.databricks.com/en/generative-ai/agent-framework/agent-tool.html\n",
    "###############################################################################\n",
    "tools = []\n",
    "\n",
    "# You can use UDFs in Unity Catalog as agent tools\n",
    "# Below, we add the `system.ai.python_exec` UDF, which provides\n",
    "# a python code interpreter tool to our agent\n",
    "\n",
    "# TODO: Add additional tools\n",
    "uc_tool_names = [\"system.ai.python_exec\"]\n",
    "uc_toolkit = UCFunctionToolkit(function_names=uc_tool_names)\n",
    "tools.extend(uc_toolkit.tools)\n",
    "\n",
    "# Use Databricks vector search indexes as tools\n",
    "# See https://docs.databricks.com/en/generative-ai/agent-framework/unstructured-retrieval-tools.html#locally-develop-vector-search-retriever-tools-with-ai-bridge\n",
    "# for details\n",
    "\n",
    "# TODO: Add vector search indexes : I am adding my own Vector Search Retriever Tool \n",
    "# (Search with customer name :'Steven Marshall'  or Transaction id 'cd506e3e-4809-45dc-b5b9-debfe70cf2f4')\n",
    "\n",
    "# vector_search_tools = [\n",
    "#         VectorSearchRetrieverTool(\n",
    "#         index_name=\"\",\n",
    "#         # filters=\"...\"\n",
    "#     )\n",
    "# ]\n",
    "vector_search_tools = [\n",
    "        VectorSearchRetrieverTool(\n",
    "        index_name=\"sarbanimaiti_catalog.dbdemos_fsi_fraud_detection.cust_emails_idx\",\n",
    "        # filters=\"...\"\n",
    "        query_type=\"HYBRID\", # Query type (\"ANN\" or \"HYBRID\").\n",
    "        tool_name=\"cust_emails\", # Used by the LLM to understand the purpose of the tool\n",
    "        tool_description=\"Use this tool to extract customer emails reporting fraudulent transactions or emails confirming legitimate transactions that were initially flagged as suspicious. These emails will be used  for fraud analysis & investigation\", # Used by the LLM to understand the purpose of the tool\n",
    "    )\n",
    "]\n",
    "tools.extend(vector_search_tools)\n",
    "\n",
    "#####################\n",
    "## Define agent logic\n",
    "#####################\n",
    "\n",
    "\n",
    "def create_tool_calling_agent(\n",
    "    model: LanguageModelLike,\n",
    "    tools: Union[ToolExecutor, Sequence[BaseTool]],\n",
    "    agent_prompt: Optional[str] = None,\n",
    ") -> CompiledGraph:\n",
    "    model = model.bind_tools(tools)\n",
    "\n",
    "    # Define the function that determines which node to go to\n",
    "    def should_continue(state: ChatAgentState):\n",
    "        messages = state[\"messages\"]\n",
    "        last_message = messages[-1]\n",
    "        # If there are function calls, continue. else, end\n",
    "        if last_message.get(\"tool_calls\"):\n",
    "            return \"continue\"\n",
    "        else:\n",
    "            return \"end\"\n",
    "\n",
    "    if agent_prompt:\n",
    "        preprocessor = RunnableLambda(\n",
    "            lambda state: [{\"role\": \"system\", \"content\": agent_prompt}]\n",
    "            + state[\"messages\"]\n",
    "        )\n",
    "    else:\n",
    "        preprocessor = RunnableLambda(lambda state: state[\"messages\"])\n",
    "    model_runnable = preprocessor | model\n",
    "\n",
    "    def call_model(\n",
    "        state: ChatAgentState,\n",
    "        config: RunnableConfig,\n",
    "    ):\n",
    "        response = model_runnable.invoke(state, config)\n",
    "\n",
    "        return {\"messages\": [response]}\n",
    "\n",
    "    def add_custom_outputs(state: ChatAgentState):\n",
    "        # TODO: Return extra content with the custom_outputs key before returning\n",
    "        return {\n",
    "            \"messages\": [{\"role\": \"assistant\", \"content\": \"Adding custom outputs\"}],\n",
    "            \"custom_outputs\": {\n",
    "                **(state.get(\"custom_outputs\") or {}),\n",
    "                **(state.get(\"custom_inputs\") or {}),\n",
    "                \"key\": \"value\",\n",
    "            }, \n",
    "        }\n",
    "\n",
    "\n",
    "    workflow = StateGraph(ChatAgentState)\n",
    "\n",
    "    workflow.add_node(\"agent\", RunnableLambda(call_model))\n",
    "    workflow.add_node(\"tools\", ChatAgentToolNode(tools))\n",
    "    workflow.add_node(\"add_custom_outputs\", RunnableLambda(add_custom_outputs))\n",
    "\n",
    "    workflow.set_entry_point(\"agent\")\n",
    "    workflow.add_conditional_edges(\n",
    "        \"agent\",\n",
    "        should_continue,\n",
    "        {\n",
    "            \"continue\": \"tools\",\n",
    "            \"end\": \"add_custom_outputs\",\n",
    "        },\n",
    "    )\n",
    "    workflow.add_edge(\"tools\", \"agent\")\n",
    "    workflow.add_edge(\"add_custom_outputs\", END)\n",
    "\n",
    "    return workflow.compile()\n",
    "\n",
    "\n",
    "class LangGraphChatAgent(ChatAgent):\n",
    "    def __init__(self, agent: CompiledStateGraph):\n",
    "        self.agent = agent\n",
    "\n",
    "    def predict(\n",
    "        self,\n",
    "        messages: list[ChatAgentMessage],\n",
    "        context: Optional[ChatContext] = None,\n",
    "        custom_inputs: Optional[dict[str, Any]] = None,\n",
    "    ) -> ChatAgentResponse:\n",
    "        # TODO: Use context and custom_inputs to alter the behavior of the agent\n",
    "        request = {\n",
    "            \"messages\": self._convert_messages_to_dict(messages),\n",
    "            **({\"custom_inputs\": custom_inputs} if custom_inputs else {}),\n",
    "            **({\"context\": context.model_dump_compat()} if context else {}),\n",
    "        }\n",
    "\n",
    "        response = ChatAgentResponse(messages=[])\n",
    "        for event in self.agent.stream(request, stream_mode=\"updates\"):\n",
    "            for node_data in event.values():\n",
    "                if not node_data:\n",
    "                    continue\n",
    "                for msg in node_data.get(\"messages\", []):\n",
    "                    response.messages.append(ChatAgentMessage(**msg))\n",
    "                if \"custom_outputs\" in node_data:\n",
    "                    response.custom_outputs = node_data[\"custom_outputs\"]\n",
    "        return response\n",
    "\n",
    "    def predict_stream(\n",
    "        self,\n",
    "        messages: list[ChatAgentMessage],\n",
    "        context: Optional[ChatContext] = None,\n",
    "        custom_inputs: Optional[dict[str, Any]] = None,\n",
    "    ) -> Generator[ChatAgentChunk, None, None]:\n",
    "        # TODO: Use context and custom_inputs to alter the behavior of the agent\n",
    "        request = {\n",
    "            \"messages\": self._convert_messages_to_dict(messages),\n",
    "            **({\"custom_inputs\": custom_inputs} if custom_inputs else {}),\n",
    "            **({\"context\": context.model_dump_compat()} if context else {}),\n",
    "        }\n",
    "\n",
    "        last_message = None\n",
    "        last_custom_outputs = None\n",
    "\n",
    "        for event in self.agent.stream(request, stream_mode=\"updates\"):\n",
    "            for node_data in event.values():\n",
    "                if not node_data:\n",
    "                    continue\n",
    "                messages = node_data.get(\"messages\", [])\n",
    "                custom_outputs = node_data.get(\"custom_outputs\")\n",
    "\n",
    "                for message in messages:\n",
    "                    if last_message:\n",
    "                        yield ChatAgentChunk(delta=last_message)\n",
    "                    last_message = message\n",
    "                if custom_outputs:\n",
    "                    last_custom_outputs = custom_outputs\n",
    "        if last_message:\n",
    "            yield ChatAgentChunk(delta=last_message, custom_outputs=last_custom_outputs)\n",
    "\n",
    "\n",
    "# Create the agent object, and specify it as the agent object to use when\n",
    "# loading the agent back for inference via mlflow.models.set_model()\n",
    "agent = create_tool_calling_agent(llm, tools, system_prompt)\n",
    "AGENT = LangGraphChatAgent(agent)\n",
    "mlflow.models.set_model(AGENT)"
   ]
  },
  {
   "cell_type": "markdown",
   "metadata": {
    "application/vnd.databricks.v1+cell": {
     "cellMetadata": {
      "byteLimit": 2048000,
      "rowLimit": 10000
     },
     "inputWidgets": {},
     "nuid": "745dd0f1-a354-4488-8d51-16382a351468",
     "showTitle": false,
     "tableResultSettingsMap": {},
     "title": ""
    }
   },
   "source": [
    "## Test the agent\n",
    "\n",
    "Interact with the agent to test its output. Since this notebook called `mlflow.langchain.autolog()` you can view the trace for each step the agent takes.\n",
    "\n",
    "Replace this placeholder input with an appropriate domain-specific example for your agent."
   ]
  },
  {
   "cell_type": "code",
   "execution_count": 0,
   "metadata": {
    "application/vnd.databricks.v1+cell": {
     "cellMetadata": {
      "byteLimit": 2048000,
      "rowLimit": 10000
     },
     "inputWidgets": {},
     "nuid": "1e941046-cce3-4dea-8c14-7ebaefc05df4",
     "showTitle": false,
     "tableResultSettingsMap": {},
     "title": ""
    }
   },
   "outputs": [],
   "source": [
    "dbutils.library.restartPython()"
   ]
  },
  {
   "cell_type": "code",
   "execution_count": 0,
   "metadata": {
    "application/vnd.databricks.v1+cell": {
     "cellMetadata": {
      "byteLimit": 2048000,
      "rowLimit": 10000
     },
     "inputWidgets": {},
     "nuid": "04671534-0ee9-46f0-9cfc-4ea71c0d01a8",
     "showTitle": false,
     "tableResultSettingsMap": {},
     "title": ""
    }
   },
   "outputs": [
    {
     "output_type": "stream",
     "name": "stderr",
     "output_type": "stream",
     "text": [
      "/databricks/spark/python/databricks/connect/session.py:452: UserWarning: Ignoring the default notebook Spark session and creating a new Spark Connect session. To use the default notebook Spark session, use DatabricksSession.builder.getOrCreate() with no additional parameters.\n  warnings.warn(new_notebook_session_msg)\n"
     ]
    },
    {
     "output_type": "execute_result",
     "data": {
      "text/plain": [
       "ChatAgentResponse(messages=[ChatAgentMessage(role='assistant', content='Hello! How can I assist you today?', name=None, id='run-07bef6eb-5e5d-4669-ad37-145af124b820-0', tool_calls=None, tool_call_id=None, attachments=None), ChatAgentMessage(role='assistant', content='Adding custom outputs', name=None, id='c112aeec-7f12-47c4-8ac8-51668e8c3736', tool_calls=None, tool_call_id=None, attachments=None)], finish_reason=None, custom_outputs={'key': 'value'}, usage=None)"
      ]
     },
     "execution_count": 1,
     "metadata": {},
     "output_type": "execute_result"
    },
    {
     "output_type": "display_data",
     "data": {
      "application/databricks.mlflow.trace": "\"tr-547fb268e48740c887edd9699749d476\"",
      "text/plain": [
       "Trace(request_id=tr-547fb268e48740c887edd9699749d476)"
      ]
     },
     "metadata": {},
     "output_type": "display_data"
    }
   ],
   "source": [
    "from agent import AGENT\n",
    "\n",
    "AGENT.predict(\n",
    "    {\n",
    "        \"messages\": [{\"role\": \"user\", \"content\": \"Hello!\"}],\n",
    "        \"custom_inputs\": {\"key\": \"value\"},\n",
    "    }\n",
    ")"
   ]
  },
  {
   "cell_type": "code",
   "execution_count": 0,
   "metadata": {
    "application/vnd.databricks.v1+cell": {
     "cellMetadata": {
      "byteLimit": 2048000,
      "rowLimit": 10000
     },
     "inputWidgets": {},
     "nuid": "5f6535b0-0fea-4700-9be0-730f8f0e0972",
     "showTitle": false,
     "tableResultSettingsMap": {},
     "title": ""
    }
   },
   "outputs": [
    {
     "output_type": "stream",
     "name": "stdout",
     "output_type": "stream",
     "text": [
      "delta=ChatAgentMessage(role='assistant', content='', name=None, id='run-420e2641-90a9-4d53-b9e2-66794930aca3-0', tool_calls=[ToolCall(id='call_9Rj3Y2g8M9BzF9T87U2Y5Owg', type='function', function=Function(name='system__ai__python_exec', arguments='{\"code\": \"investment = 10000\\\\nrate = 0.05\\\\nyears = 2\\\\nfinal_amount = investment * (1 + rate) * years\\\\nprint(final_amount)\"}'))], tool_call_id=None, attachments=None) finish_reason=None custom_outputs=None usage=None -----------\n\ndelta=ChatAgentMessage(role='tool', content='{\"format\": \"SCALAR\", \"value\": \"21000.0\\\\n\"}', name='system__ai__python_exec', id='51993fdb-af0e-4ab9-af44-cf8088857e15', tool_calls=None, tool_call_id='call_9Rj3Y2g8M9BzF9T87U2Y5Owg', attachments=None) finish_reason=None custom_outputs=None usage=None -----------\n\ndelta=ChatAgentMessage(role='assistant', content='The final amount on the investment is $21,000.', name=None, id='run-a6927030-c431-4979-9e60-1e8969b927ba-0', tool_calls=None, tool_call_id=None, attachments=None) finish_reason=None custom_outputs=None usage=None -----------\n\ndelta=ChatAgentMessage(role='assistant', content='Adding custom outputs', name=None, id='56ed5515-d780-419e-ae66-a9c9e13fe720', tool_calls=None, tool_call_id=None, attachments=None) finish_reason=None custom_outputs={'key': 'value'} usage=None -----------\n\n"
     ]
    },
    {
     "output_type": "display_data",
     "data": {
      "application/databricks.mlflow.trace": "\"tr-6feff6762bf44065b2b3508f65b33bfe\"",
      "text/plain": [
       "Trace(request_id=tr-6feff6762bf44065b2b3508f65b33bfe)"
      ]
     },
     "metadata": {},
     "output_type": "display_data"
    }
   ],
   "source": [
    "for event in AGENT.predict_stream(\n",
    "    {\n",
    "        \"messages\": [{\"role\": \"user\", \"content\": \"Calculate the final amount on investment (10000 * (1 + 0.05) * 2) in python\"}],\n",
    "        \"custom_inputs\": {\"key\": \"value\"},\n",
    "    }\n",
    "):\n",
    "    print(event, \"-----------\\n\")"
   ]
  },
  {
   "cell_type": "code",
   "execution_count": 0,
   "metadata": {
    "application/vnd.databricks.v1+cell": {
     "cellMetadata": {
      "byteLimit": 2048000,
      "rowLimit": 10000
     },
     "inputWidgets": {},
     "nuid": "eea25dbd-c4b6-427f-8c25-3db18e079781",
     "showTitle": false,
     "tableResultSettingsMap": {},
     "title": ""
    }
   },
   "outputs": [
    {
     "output_type": "stream",
     "name": "stdout",
     "output_type": "stream",
     "text": [
      "delta=ChatAgentMessage(role='assistant', content='', name=None, id='run-b2f13800-6fdf-41c1-abca-ea9f915b23ce-0', tool_calls=[ToolCall(id='call_hRznDYw0RARN4w8DUO6c8V2x', type='function', function=Function(name='cust_emails', arguments='{\"query\": \"Steven Marshall\"}'))], tool_call_id=None, attachments=None) finish_reason=None custom_outputs=None usage=None -----------\n\ndelta=ChatAgentMessage(role='tool', content='[Document(metadata={\\'transaction_id\\': \\'ce257645-bdc3-460a-915f-4e45dd69d6fc\\'}, page_content=\"Subject: Legitimate transaction confirmation - Nigeria to Panama transfer\\\\nFrom: matthewmurray@allen.biz\\\\nDate: February 27, 2025, 4:15 PM\\\\nTo: security@bankname.com\\\\n\\\\nHello Bank Security,\\\\nI\\'m writing in response to your automated alert regarding a $400,000 transfer from Nigeria to Panama (Transaction ID: ce257645-bdc3-460a-915f-4e45dd69d6fc) that was flagged as potentially fraudulent.\\\\nI want to confirm that this is a legitimate transaction that I authorized.\\\\nBest regards,\\\\nSteven Marshall\\\\nCEO, Marshall Global Logistics\"), Document(metadata={\\'transaction_id\\': \\'46205ad5-4bd1-48a4-8abb-490993b38865\\'}, page_content=\\'Subject: Re: Transaction verification request - $400,000 to Réunion\\\\nFrom: matthewmurray@allen.biz\\\\nDate: March 1, 2025, 10:30 AM\\\\nTo: verification@bankname.com\\\\n\\\\nDear Transaction Verification Team,\\\\nThank you for your email regarding the $400,000 transfer from Peru to Réunion (Transaction ID: 46205ad5-4bd1-48a4-8abb-490993b38865) that was flagged for verification.\\\\nI want to confirm that this is indeed a legitimate transaction that I authorized. I am currently expanding my business operations to Réunion and this transfer was to our new business partner there.\\\\nThank you,\\\\nSteven Marshall\\'), Document(metadata={\\'transaction_id\\': \\'a5c4e6dd-5582-4419-88ef-abc6490fa5ce\\'}, page_content=\"Subject: Fraudulent $400,000 withdrawal from Turkey to Russia\\\\nFrom: matthewmurray@allen.biz\\\\nDate: March 1, 2025, 3:45 PM\\\\nTo: fraud@bankname.com\\\\n\\\\nDear Fraud Department,\\\\nI am writing to report a fraudulent transaction on my account that I\\'ve just discovered.\\\\nTransaction details:\\\\nAmount: $400,000\\\\nTransaction ID: a5c4e6dd-5582-4419-88ef-abc6490fa5ce\\\\nType: CASH_OUT\\\\nOrigin: Turkey\\\\nDestination: Russian Federation\\\\nStep: 419\\\\nI have never authorized this transaction and have no connections to Turkey or Russia. I have not given anyone permission to use my account for such transfers.\\\\nI\\'ve already reported several other fraudulent transactions this week and am deeply concerned about the security of my account. Please investigate immediately and strengthen my account security.\\\\nRegards,\\\\nSteven Marshall\"), Document(metadata={\\'transaction_id\\': \\'a540b34e-4c15-4428-a5fe-c4943ccc0000\\'}, page_content=\"Subject: Fraudulent activity - $400,000 cash-out from Brazil to Panama\\\\nFrom: matthewmurray@allen.biz\\\\nDate: February 28, 2025, 8:22 PM\\\\nTo: fraud@bankname.com\\\\n\\\\nHello Bank Security,\\\\nI\\'m alerting you to a fraudulent transaction on my account that I just noticed while reviewing my recent activities. A cash-out transaction of $400,000 (Transaction ID: a540b34e-4c15-4428-a5fe-c4943ccc0000) was processed from Brazil to Panama on your step 363.\\\\nI have not authorized this transaction and have never conducted business in either Brazil or Panama. This is clearly fraudulent activity.\\\\nPlease investigate this matter urgently and reverse the transaction. I would also appreciate information on how my account security might have been breached.\\\\nBest regards,\\\\nSteven Marshall\\\\nCustomer ID: 83214a7c-d15f-4d5c-8708-c25058fd3423\"), Document(metadata={\\'transaction_id\\': \\'303f1fea-c368-4483-8626-2fec84b13b14\\'}, page_content=\"Subject: Fraud Alert: Unauthorized $393,378.92 transaction from Panama\\\\nFrom: matthewmurray@allen.biz\\\\nDate: March 2, 2025, 11:32 AM\\\\nTo: fraud@bankname.com\\\\nCc: security@bankname.com\\\\n\\\\nTo Whom It May Concern,\\\\nI am reporting a fraudulent transaction that has appeared on my account. The transaction involves a cash-out of $393,378.92 (Transaction ID: 303f1fea-c368-4483-8626-2fec84b13b14) from Panama to France.\\\\nThis transaction occurred on step 232 of your system and I did not authorize it. I have no business connections in Panama and have not visited France recently.\\\\nWhat\\'s particularly alarming is that this is the third unauthorized transaction I\\'ve reported this week. I believe my account has been seriously compromised and request immediate investigation.\\\\nPlease confirm receipt of this email and advise on next steps.\\\\nSincerely,\\\\nSteven Marshall\\\\nContact: [redacted]\\\\nAddress: Unit 8515 Box 1602, DPO AA 84535\")]', name='cust_emails', id='ea63af49-aa39-4517-8f13-b7f0db3ab10a', tool_calls=None, tool_call_id='call_hRznDYw0RARN4w8DUO6c8V2x', attachments=None) finish_reason=None custom_outputs=None usage=None -----------\n\ndelta=ChatAgentMessage(role='assistant', content='Here are the email communications from Steven Marshall:\\n\\n1. **Legitimate Transaction Confirmation**:\\n   - **Subject**: Legitimate transaction confirmation - Nigeria to Panama transfer\\n   - **Date**: February 27, 2025\\n   - **Content**: Steven Marshall confirmed a $400,000 transfer from Nigeria to Panama as legitimate.\\n\\n2. **Transaction Verification Request**:\\n   - **Subject**: Re: Transaction verification request - $400,000 to Réunion\\n   - **Date**: March 1, 2025\\n   - **Content**: Steven Marshall confirmed a $400,000 transfer from Peru to Réunion as legitimate, related to business expansion.\\n\\n3. **Fraudulent Transaction Report**:\\n   - **Subject**: Fraudulent $400,000 withdrawal from Turkey to Russia\\n   - **Date**: March 1, 2025\\n   - **Content**: Steven Marshall reported a fraudulent $400,000 transaction from Turkey to Russia, which he did not authorize.\\n\\n4. **Fraudulent Activity Alert**:\\n   - **Subject**: Fraudulent activity - $400,000 cash-out from Brazil to Panama\\n   - **Date**: February 28, 2025\\n   - **Content**: Steven Marshall reported a fraudulent $400,000 transaction from Brazil to Panama, which he did not authorize.\\n\\n5. **Fraud Alert**:\\n   - **Subject**: Fraud Alert: Unauthorized $393,378.92 transaction from Panama\\n   - **Date**: March 2, 2025\\n   - **Content**: Steven Marshall reported a fraudulent $393,378.92 transaction from Panama to France, which he did not authorize.\\n\\nThese emails involve both confirmations of legitimate transactions and reports of fraudulent activities.', name=None, id='run-39e76e23-fc8a-4f45-9f64-ce229ef640a6-0', tool_calls=None, tool_call_id=None, attachments=None) finish_reason=None custom_outputs=None usage=None -----------\n\ndelta=ChatAgentMessage(role='assistant', content='Adding custom outputs', name=None, id='5d6811d0-946a-45b5-9d74-766cd8758134', tool_calls=None, tool_call_id=None, attachments=None) finish_reason=None custom_outputs={'key': 'value'} usage=None -----------\n\n"
     ]
    },
    {
     "output_type": "display_data",
     "data": {
      "application/databricks.mlflow.trace": "\"tr-3e104d2975b742789f29051843ae2eff\"",
      "text/plain": [
       "Trace(request_id=tr-3e104d2975b742789f29051843ae2eff)"
      ]
     },
     "metadata": {},
     "output_type": "display_data"
    }
   ],
   "source": [
    "for event in AGENT.predict_stream(\n",
    "    {\n",
    "        \"messages\": [{\"role\": \"user\", \"content\": \"Is there any email communication from Steven Marshall?\"}],\n",
    "        \"custom_inputs\": {\"key\": \"value\"},\n",
    "    }\n",
    "):\n",
    "    print(event, \"-----------\\n\")"
   ]
  },
  {
   "cell_type": "markdown",
   "metadata": {
    "application/vnd.databricks.v1+cell": {
     "cellMetadata": {
      "byteLimit": 2048000,
      "rowLimit": 10000
     },
     "inputWidgets": {},
     "nuid": "7237da3f-c842-48c0-a533-d093af0c12c6",
     "showTitle": false,
     "tableResultSettingsMap": {},
     "title": ""
    }
   },
   "source": [
    "## Log the agent as an MLflow model\n",
    "\n",
    "Log the agent as code from the `agent.py` file. See [MLflow - Models from Code](https://mlflow.org/docs/latest/models.html#models-from-code).\n",
    "\n",
    "### Enable automatic authentication for Databricks resources\n",
    "For the most common Databricks resource types, Databricks supports and recommends declaring resource dependencies for the agent upfront during logging. This enables automatic authentication passthrough when you deploy the agent. With automatic authentication passthrough, Databricks automatically provisions, rotates, and manages short-lived credentials to securely access these resource dependencies from within the agent endpoint.\n",
    "\n",
    "To enable automatic authentication, specify the dependent Databricks resources when calling `mlflow.pyfunc.log_model().`\n",
    "\n",
    "  - **TODO**: If your Unity Catalog tool queries a [vector search index](docs link) or leverages [external functions](docs link), you need to include the dependent vector search index and UC connection objects, respectively, as resources. See docs ([AWS](https://docs.databricks.com/generative-ai/agent-framework/log-agent.html#specify-resources-for-automatic-authentication-passthrough) | [Azure](https://learn.microsoft.com/azure/databricks/generative-ai/agent-framework/log-agent#resources)).\n",
    "\n"
   ]
  },
  {
   "cell_type": "code",
   "execution_count": 0,
   "metadata": {
    "application/vnd.databricks.v1+cell": {
     "cellMetadata": {
      "byteLimit": 2048000,
      "rowLimit": 10000
     },
     "inputWidgets": {},
     "nuid": "ad657dab-6dd9-4dc0-9465-e47aeed1c895",
     "showTitle": false,
     "tableResultSettingsMap": {},
     "title": ""
    }
   },
   "outputs": [
    {
     "output_type": "stream",
     "name": "stderr",
     "output_type": "stream",
     "text": [
      "/databricks/spark/python/databricks/connect/session.py:452: UserWarning: Ignoring the default notebook Spark session and creating a new Spark Connect session. To use the default notebook Spark session, use DatabricksSession.builder.getOrCreate() with no additional parameters.\n  warnings.warn(new_notebook_session_msg)\n2025/03/17 16:12:04 INFO mlflow.pyfunc: Predicting on input example to validate output\n/databricks/spark/python/databricks/connect/session.py:452: UserWarning: Ignoring the default notebook Spark session and creating a new Spark Connect session. To use the default notebook Spark session, use DatabricksSession.builder.getOrCreate() with no additional parameters.\n  warnings.warn(new_notebook_session_msg)\n"
     ]
    },
    {
     "output_type": "display_data",
     "data": {
      "application/vnd.jupyter.widget-view+json": {
       "model_id": "54f453b2b9ac4d1ab2912e21c4145b36",
       "version_major": 2,
       "version_minor": 0
      },
      "text/plain": [
       "Uploading artifacts:   0%|          | 0/12 [00:00<?, ?it/s]"
      ]
     },
     "metadata": {},
     "output_type": "display_data"
    },
    {
     "output_type": "stream",
     "name": "stderr",
     "output_type": "stream",
     "text": [
      "WARNING:urllib3.connectionpool:Connection pool is full, discarding connection: e2-demo-field-eng-dbfs.s3.us-west-2.amazonaws.com. Connection pool size: 10\nWARNING:urllib3.connectionpool:Connection pool is full, discarding connection: e2-demo-field-eng-dbfs.s3.us-west-2.amazonaws.com. Connection pool size: 10\n"
     ]
    }
   ],
   "source": [
    "import mlflow\n",
    "from agent import tools, LLM_ENDPOINT_NAME\n",
    "from databricks_langchain import VectorSearchRetrieverTool\n",
    "from mlflow.models.resources import DatabricksFunction, DatabricksServingEndpoint\n",
    "from unitycatalog.ai.langchain.toolkit import UnityCatalogTool\n",
    "\n",
    "resources = [DatabricksServingEndpoint(endpoint_name=LLM_ENDPOINT_NAME)]\n",
    "for tool in tools:\n",
    "    if isinstance(tool, VectorSearchRetrieverTool):\n",
    "        resources.extend(tool.resources)\n",
    "    elif isinstance(tool, UnityCatalogTool):\n",
    "        resources.append(DatabricksFunction(function_name=tool.uc_function_name))\n",
    "\n",
    "\n",
    "with mlflow.start_run():\n",
    "    logged_agent_info = mlflow.pyfunc.log_model(\n",
    "        artifact_path=\"agent\",\n",
    "        python_model=\"agent.py\",\n",
    "        pip_requirements=[\n",
    "            \"mlflow\",\n",
    "            \"langchain\",\n",
    "            \"langgraph==0.2.74\",\n",
    "            \"databricks-langchain\",\n",
    "            \"unitycatalog-langchain[databricks]\",\n",
    "            \"pydantic\",\n",
    "        ],\n",
    "        resources=resources,\n",
    "    )"
   ]
  },
  {
   "cell_type": "markdown",
   "metadata": {
    "application/vnd.databricks.v1+cell": {
     "cellMetadata": {
      "byteLimit": 2048000,
      "rowLimit": 10000
     },
     "inputWidgets": {},
     "nuid": "ee2348c5-c499-4d5b-8990-7899269b08b4",
     "showTitle": false,
     "tableResultSettingsMap": {},
     "title": ""
    }
   },
   "source": [
    "## Pre-deployment agent validation\n",
    "Before registering and deploying the agent, perform pre-deployment checks using the [mlflow.models.predict()](https://mlflow.org/docs/latest/python_api/mlflow.models.html#mlflow.models.predict) API. See Databricks documentation ([AWS](https://docs.databricks.com/en/machine-learning/model-serving/model-serving-debug.html#validate-inputs) | [Azure](https://learn.microsoft.com/en-us/azure/databricks/machine-learning/model-serving/model-serving-debug#before-model-deployment-validation-checks))."
   ]
  },
  {
   "cell_type": "code",
   "execution_count": 0,
   "metadata": {
    "application/vnd.databricks.v1+cell": {
     "cellMetadata": {
      "byteLimit": 2048000,
      "rowLimit": 10000
     },
     "inputWidgets": {},
     "nuid": "924090ef-d49d-4934-9ad8-348627ebc4f4",
     "showTitle": false,
     "tableResultSettingsMap": {},
     "title": ""
    }
   },
   "outputs": [],
   "source": [
    "mlflow.models.predict(\n",
    "    model_uri=f\"runs:/{logged_agent_info.run_id}/agent\",\n",
    "    input_data={\"messages\": [{\"role\": \"user\", \"content\": \"Hello!\"}]},\n",
    "    env_manager=\"uv\",\n",
    ")"
   ]
  },
  {
   "cell_type": "markdown",
   "metadata": {
    "application/vnd.databricks.v1+cell": {
     "cellMetadata": {
      "byteLimit": 2048000,
      "rowLimit": 10000
     },
     "inputWidgets": {},
     "nuid": "ba019ce2-7f3e-461a-b896-372805f19c00",
     "showTitle": false,
     "tableResultSettingsMap": {},
     "title": ""
    }
   },
   "source": [
    "## Register the model to Unity Catalog\n",
    "\n",
    "Before you deploy the agent, you must register the agent to Unity Catalog.\n",
    "\n",
    "- **TODO** Update the `catalog`, `schema`, and `model_name` below to register the MLflow model to Unity Catalog."
   ]
  },
  {
   "cell_type": "code",
   "execution_count": 0,
   "metadata": {
    "application/vnd.databricks.v1+cell": {
     "cellMetadata": {
      "byteLimit": 2048000,
      "rowLimit": 10000
     },
     "inputWidgets": {},
     "nuid": "3ceb4338-7c69-4833-b1be-0daf89366cd0",
     "showTitle": false,
     "tableResultSettingsMap": {},
     "title": ""
    }
   },
   "outputs": [],
   "source": [
    "mlflow.set_registry_uri(\"databricks-uc\")\n",
    "\n",
    "# TODO: define the catalog, schema, and model name for your UC model\n",
    "catalog = \"sarbanimaiti_catalog\"\n",
    "schema = \"dbdemo_agent\"\n",
    "model_name = \"lgtc_custsch_Finagnt\"\n",
    "UC_MODEL_NAME = f\"{catalog}.{schema}.{model_name}\"\n",
    "\n",
    "# register the model to UC\n",
    "uc_registered_model_info = mlflow.register_model(\n",
    "    model_uri=logged_agent_info.model_uri, name=UC_MODEL_NAME\n",
    ")"
   ]
  },
  {
   "cell_type": "markdown",
   "metadata": {
    "application/vnd.databricks.v1+cell": {
     "cellMetadata": {
      "byteLimit": 2048000,
      "rowLimit": 10000
     },
     "inputWidgets": {},
     "nuid": "53c571a3-dac3-4f21-a5e4-57c891702874",
     "showTitle": false,
     "tableResultSettingsMap": {},
     "title": ""
    }
   },
   "source": [
    "## Deploy the agent"
   ]
  },
  {
   "cell_type": "code",
   "execution_count": 0,
   "metadata": {
    "application/vnd.databricks.v1+cell": {
     "cellMetadata": {
      "byteLimit": 2048000,
      "rowLimit": 10000
     },
     "inputWidgets": {},
     "nuid": "0f1ea3f0-9281-405f-8d34-9ded7c2bd346",
     "showTitle": false,
     "tableResultSettingsMap": {},
     "title": ""
    }
   },
   "outputs": [],
   "source": [
    "\n",
    "\n",
    "# from databricks import agents\n",
    "# agents.deploy(UC_MODEL_NAME, uc_registered_model_info.version, tags = {\"endpointSource\": \"docs\"})\n",
    "\n",
    "# catalog = \"your_catalog\"\n",
    "# schema = \"dbdemo_agent\"\n",
    "model_name = \"lgtc_custsch_Finagnt\"\n",
    "UC_MODEL_NAME = \"sarbanimaiti_catalog.dbdemo_agent.lgtc_custsch_Finagnt\"\n",
    "\n",
    "\n",
    "from databricks import agents\n",
    "agents.deploy(UC_MODEL_NAME, 3, tags = {\"endpointSource\": \"docs\"})"
   ]
  },
  {
   "cell_type": "markdown",
   "metadata": {
    "application/vnd.databricks.v1+cell": {
     "cellMetadata": {
      "byteLimit": 2048000,
      "rowLimit": 10000
     },
     "inputWidgets": {},
     "nuid": "a6badba8-ec33-4c5a-acfc-19da392877f0",
     "showTitle": false,
     "tableResultSettingsMap": {},
     "title": ""
    }
   },
   "source": [
    "## Next steps\n",
    "\n",
    "After your agent is deployed, you can chat with it in AI playground to perform additional checks, share it with SMEs in your organization for feedback, or embed it in a production application. See Databricks documentation ([AWS](https://docs.databricks.com/en/generative-ai/deploy-agent.html) | [Azure](https://learn.microsoft.com/en-us/azure/databricks/generative-ai/deploy-agent))."
   ]
  },
  {
   "cell_type": "markdown",
   "metadata": {
    "application/vnd.databricks.v1+cell": {
     "cellMetadata": {
      "byteLimit": 2048000,
      "rowLimit": 10000
     },
     "inputWidgets": {},
     "nuid": "b3f177be-b1ec-4bc4-b4ab-abb854bc8fca",
     "showTitle": false,
     "tableResultSettingsMap": {},
     "title": ""
    }
   },
   "source": [
    "#### Test Index"
   ]
  },
  {
   "cell_type": "code",
   "execution_count": 0,
   "metadata": {
    "application/vnd.databricks.v1+cell": {
     "cellMetadata": {
      "byteLimit": 2048000,
      "rowLimit": 10000
     },
     "inputWidgets": {},
     "nuid": "88365371-5e2b-42f9-87fd-f598d8f19c98",
     "showTitle": true,
     "tableResultSettingsMap": {},
     "title": "Testing...Creating or Retrieving Index for Customer Emails"
    }
   },
   "outputs": [],
   "source": [
    "import databricks.sdk.service.catalog as c\n",
    "from databricks.vector_search.client import VectorSearchClient\n",
    "VECTOR_SEARCH_ENDPOINT_NAME = \"one-env-shared-endpoint-1\"\n",
    "vsc = VectorSearchClient(disable_notice=True)\n",
    "\n",
    "# Where we want to store our index\n",
    "vs_index_fullname = f\"{catalog}.{db}.cust_emails_idx\"\n",
    "#embedding_model_endpoint = \"databricks-gte-large-en\"\n",
    "\n",
    "# index = vsc.create_delta_sync_index(\n",
    "#   endpoint_name=VECTOR_SEARCH_ENDPOINT_NAME,\n",
    "#   source_table_name=f\"{catalog}.{db}.customer_emails\", \n",
    "#   index_name=vs_index_fullname,\n",
    "#   pipeline_type=\"TRIGGERED\",\n",
    "#   primary_key='transaction_id',\n",
    "#   embedding_source_column=\"email_content\",\n",
    "#   embedding_model_endpoint_name= embedding_model_endpoint)\n",
    "index = vsc.get_index(VECTOR_SEARCH_ENDPOINT_NAME, vs_index_fullname)\n",
    "\n",
    "# if not index_exists(vsc, VECTOR_SEARCH_ENDPOINT_NAME, vs_index_fullname):\n",
    "#   print(f\"Creating index {vs_index_fullname} on endpoint {VECTOR_SEARCH_ENDPOINT_NAME}...\")\n",
    "#   index = vsc.create_delta_sync_index(\n",
    "#     endpoint_name=VECTOR_SEARCH_ENDPOINT_NAME,\n",
    "#     source_table_name=f\"{catalog}.{db}.customer_emails\", \n",
    "#     index_name=vs_index_fullname,\n",
    "#     pipeline_type=\"TRIGGERED\",\n",
    "#     primary_key='transaction_id',\n",
    "#     embedding_source_column=\"email_content\",\n",
    "#     embedding_model_endpoint_name= embedding_model_endpoint\n",
    "#   )\n",
    "# else:\n",
    "#   print(f\"Grabbing existing index {vs_index_fullname} on endpoint {VECTOR_SEARCH_ENDPOINT_NAME}...\")\n",
    "#   index = vsc.get_index(VECTOR_SEARCH_ENDPOINT_NAME, vs_index_fullname)"
   ]
  },
  {
   "cell_type": "code",
   "execution_count": 0,
   "metadata": {
    "application/vnd.databricks.v1+cell": {
     "cellMetadata": {
      "byteLimit": 2048000,
      "rowLimit": 10000
     },
     "inputWidgets": {},
     "nuid": "3da405ea-469d-4f7c-ae39-25331171d7cc",
     "showTitle": false,
     "tableResultSettingsMap": {},
     "title": ""
    }
   },
   "outputs": [],
   "source": [
    "\n",
    "index.similarity_search(\n",
    "    columns=['customer_id', 'transaction_id', 'email_content'],\n",
    "    query_text='83214a7c-d15f-4d5c-8708-c25058fd3423',\n",
    "    query_type=\"hybrid\"\n",
    ")"
   ]
  },
  {
   "cell_type": "code",
   "execution_count": 0,
   "metadata": {
    "application/vnd.databricks.v1+cell": {
     "cellMetadata": {
      "byteLimit": 2048000,
      "rowLimit": 10000
     },
     "inputWidgets": {},
     "nuid": "db34ab16-7052-4932-98b1-ac067d80dfc0",
     "showTitle": false,
     "tableResultSettingsMap": {},
     "title": ""
    }
   },
   "outputs": [],
   "source": []
  }
 ],
 "metadata": {
  "application/vnd.databricks.v1+notebook": {
   "computePreferences": null,
   "dashboards": [],
   "environmentMetadata": null,
   "language": "python",
   "notebookMetadata": {
    "mostRecentlyExecutedCommandWithImplicitDF": {
     "commandId": 2896476171254070,
     "dataframes": [
      "_sqldf"
     ]
    },
    "pythonIndentUnit": 4
   },
   "notebookName": "demo-langgraph-custom-schema",
   "widgets": {}
  },
  "language_info": {
   "name": "python"
  }
 },
 "nbformat": 4,
 "nbformat_minor": 0
}